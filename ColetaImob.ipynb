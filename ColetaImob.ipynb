{
 "cells": [
  {
   "cell_type": "code",
   "execution_count": null,
   "metadata": {
    "collapsed": true,
    "pycharm": {
     "name": "#%%\n"
    }
   },
   "outputs": [],
   "source": [
    "# A CLASSE NÃO PRECISA SER FUNCIONAL\n",
    "class ColetorImovel:\n",
    "\n",
    "    def __init__(self, tipo: str, imob: str, situacao: str) -> None:\n",
    "        self.__tipo = tipo\n",
    "        self.__imob = imob\n",
    "        self.__situacao = situacao\n",
    "        # Não inicializados\n",
    "        self.__preco = self.__area = None\n",
    "\n",
    "\n",
    "    def set_preco(self, preco):\n",
    "        pass\n",
    "\n",
    "\n",
    "    def get_area_construida(self, area):\n",
    "        pass\n",
    "\n",
    "\n",
    "    def preco_p_metro(self):\n",
    "        return self.__preco / self.__area\n",
    "\n",
    "\n",
    "    def situacao(self):\n",
    "        return self.__situacao"
   ]
  }
 ],
 "metadata": {
  "kernelspec": {
   "display_name": "Python 3",
   "language": "python",
   "name": "python3"
  },
  "language_info": {
   "codemirror_mode": {
    "name": "ipython",
    "version": 2
   },
   "file_extension": ".py",
   "mimetype": "text/x-python",
   "name": "python",
   "nbconvert_exporter": "python",
   "pygments_lexer": "ipython2",
   "version": "2.7.6"
  }
 },
 "nbformat": 4,
 "nbformat_minor": 0
}