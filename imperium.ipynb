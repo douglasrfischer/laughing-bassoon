{
 "cells": [
  {
   "cell_type": "markdown",
   "source": [
    "# TODO:\n",
    "* **Criar uma funcao que colete os links de todos os imoveis a venda da imobiliaria ✓**\n",
    "\n",
    "* **Criar um dicionario com as informacoes de: Preco ✓**"
   ],
   "metadata": {
    "collapsed": false,
    "pycharm": {
     "name": "#%% md\n"
    }
   }
  },
  {
   "cell_type": "markdown",
   "source": [
    "# Estudo da página"
   ],
   "metadata": {
    "collapsed": false,
    "pycharm": {
     "name": "#%% md\n"
    }
   }
  },
  {
   "cell_type": "code",
   "execution_count": 8,
   "metadata": {
    "collapsed": true,
    "pycharm": {
     "name": "#%%\n"
    }
   },
   "outputs": [],
   "source": [
    "from selenium import webdriver\n",
    "from selenium.webdriver.common.by import By\n",
    "from time import sleep"
   ]
  },
  {
   "cell_type": "code",
   "execution_count": 9,
   "outputs": [
    {
     "name": "stderr",
     "output_type": "stream",
     "text": [
      "/tmp/ipykernel_3897/1040251504.py:1: DeprecationWarning: executable_path has been deprecated, please pass in a Service object\n",
      "  driver = webdriver.Firefox(executable_path='/home/douglas/PycharmProjects/scraperImperium/geckodriver')\n"
     ]
    }
   ],
   "source": [
    "driver = webdriver.Firefox(executable_path='/home/douglas/PycharmProjects/scraperImperium/geckodriver')"
   ],
   "metadata": {
    "collapsed": false,
    "pycharm": {
     "name": "#%%\n"
    }
   }
  },
  {
   "cell_type": "code",
   "execution_count": 10,
   "outputs": [],
   "source": [
    "driver.get('https://www.imperiumimoveis.com.br/imoveis/venda-guarapuava')"
   ],
   "metadata": {
    "collapsed": false,
    "pycharm": {
     "name": "#%%\n"
    }
   }
  },
  {
   "cell_type": "markdown",
   "source": [
    "**Obtendo quantidade de imóveis**"
   ],
   "metadata": {
    "collapsed": false,
    "pycharm": {
     "name": "#%% md\n"
    }
   }
  },
  {
   "cell_type": "code",
   "execution_count": 4,
   "outputs": [],
   "source": [
    "qtd = driver.find_element(By.CLASS_NAME, 'list__counter').text\n",
    "qtd = int(qtd.split()[0])"
   ],
   "metadata": {
    "collapsed": false,
    "pycharm": {
     "name": "#%%\n"
    }
   }
  },
  {
   "cell_type": "markdown",
   "source": [
    "**O tamanho inicial já conta com 12 anúncios. Cada seção/load da página adiciona 3960 pixels/12 anúncios. Existem 413 anúncios**"
   ],
   "metadata": {
    "collapsed": false,
    "pycharm": {
     "name": "#%% md\n"
    }
   }
  },
  {
   "cell_type": "code",
   "execution_count": 5,
   "outputs": [],
   "source": [
    "def rolar_pag():\n",
    "    # Impede que o site \"emperre\"\n",
    "    driver.execute_script('window.scrollBy(0, -500)')\n",
    "    # Elemento que faz com que o site carregue mais anúncios\n",
    "    elemento = driver.find_element(By.XPATH, '/html/body/main/div/section/div[2]/div[1]/div[3]/div[2]')\n",
    "    #Move para o elemento que carrega a página\n",
    "    driver.execute_script(\"arguments[0].scrollIntoView();\", elemento)"
   ],
   "metadata": {
    "collapsed": false,
    "pycharm": {
     "name": "#%%\n"
    }
   }
  },
  {
   "cell_type": "markdown",
   "source": [
    "**Carregando todos os anúncios**"
   ],
   "metadata": {
    "collapsed": false,
    "pycharm": {
     "name": "#%% md\n"
    }
   }
  },
  {
   "cell_type": "code",
   "execution_count": 7,
   "outputs": [],
   "source": [
    "maximo = 0\n",
    "while True:\n",
    "    rolar_pag()\n",
    "    sleep(1.5)\n",
    "    aux = driver.execute_script('return document.body.scrollHeight')\n",
    "    if maximo < aux:\n",
    "        maximo = aux\n",
    "    else:\n",
    "        break"
   ],
   "metadata": {
    "collapsed": false,
    "pycharm": {
     "name": "#%%\n"
    }
   }
  },
  {
   "cell_type": "markdown",
   "source": [
    "O elemento ```<div class=\"jetgrid list__container\" data-template=\"\">``` é pai de todos os elementos de anúncios (```<div class=\"jetgrid__col--24 jetgrid__col--sm-12 jetgrid__col--xs-24\">```)\n",
    "\n",
    "XPath pai:\n",
    "```/html/body/main/div/section/div[2]/div[1]/div[3]/div[1]```\n",
    "\n",
    "XPath 1º anúncio:\n",
    "```/html/body/main/div/section/div[2]/div[1]/div[3]/div[1]/div[1]```\n",
    "\n",
    "XPath 2º anúncio:\n",
    "```/html/body/main/div/section/div[2]/div[1]/div[3]/div[1]/div[2]```"
   ],
   "metadata": {
    "collapsed": false,
    "pycharm": {
     "name": "#%% md\n"
    }
   }
  },
  {
   "cell_type": "markdown",
   "source": [
    "# Coleta dos demais dados"
   ],
   "metadata": {
    "collapsed": false,
    "pycharm": {
     "name": "#%% md\n"
    }
   }
  },
  {
   "cell_type": "code",
   "execution_count": 15,
   "outputs": [],
   "source": [
    "def get_referencia(i:int) -> str:\n",
    "    return driver.find_element(By.XPATH, f'/html/body/main/div/section/div[2]/div[1]/div[3]/div[1]/div[{i}]/a/div[2]/p[1]').text"
   ],
   "metadata": {
    "collapsed": false,
    "pycharm": {
     "name": "#%%\n"
    }
   }
  },
  {
   "cell_type": "code",
   "execution_count": 20,
   "outputs": [],
   "source": [
    "def get_area_t(i:int) -> float:\n",
    "    area = driver.find_element(By.XPATH, f'/html/body/main/div/section/div[2]/div[1]/div[3]/div[1]/div[{i}]/a/div[2]/ul/li[1]/span').text\n",
    "    area = float(area.replace('M² TOTAL', ''))\n",
    "    return area"
   ],
   "metadata": {
    "collapsed": false,
    "pycharm": {
     "name": "#%%\n"
    }
   }
  },
  {
   "cell_type": "code",
   "execution_count": 27,
   "outputs": [],
   "source": [
    "def get_area_u(i:int) -> float:  # Nem todos os anúncios tem\n",
    "    area = driver.find_element(By.XPATH, f'/html/body/main/div/section/div[2]/div[1]/div[3]/div[1]/div[{i}]/a/div[2]/ul/li[2]/span').text\n",
    "    if 'M² ÚTIL' in area:\n",
    "        area = float(area.replace('M² ÚTIL', ''))\n",
    "        return area\n",
    "    return 0"
   ],
   "metadata": {
    "collapsed": false,
    "pycharm": {
     "name": "#%%\n"
    }
   }
  },
  {
   "cell_type": "code",
   "execution_count": 28,
   "outputs": [
    {
     "name": "stdout",
     "output_type": "stream",
     "text": [
      "area_t:  {'09970.5308': 20000.0, '09970.4672': 17147.19, '09970.4130': 1972.32, '09970.4786': 2100.0, '09970.4321': 646.76, '01587.019': 252.0, '09970.5348': 825.0, '09970.4132': 22000.0, '09970.4659': 1100.0, '09970.4131': 580.0, '09970.4352': 500.0, '09970.4718': 516.26}\n",
      "area_u:  {'09970.5308': 3351.0, '09970.4672': 20000.0, '09970.4130': 600.0, '09970.4786': 2100.0, '09970.4321': 646.76, '01587.019': 0, '09970.5348': 500.0, '09970.4132': 0, '09970.4659': 500.0, '09970.4131': 800.0, '09970.4352': 0, '09970.4718': 579.85}\n"
     ]
    }
   ],
   "source": [
    "area_t = dict()\n",
    "area_u = dict()\n",
    "\n",
    "for i in range(1, 12+1):\n",
    "    ref = get_referencia(i)\n",
    "    area_t[ref] = get_area_t(i)\n",
    "\n",
    "    area_u[ref] = get_area_u(i)\n",
    "\n",
    "print('area_t: ', area_t)\n",
    "print('area_u: ', area_u)"
   ],
   "metadata": {
    "collapsed": false,
    "pycharm": {
     "name": "#%%\n"
    }
   }
  }
 ],
 "metadata": {
  "kernelspec": {
   "display_name": "Python 3",
   "language": "python",
   "name": "python3"
  },
  "language_info": {
   "codemirror_mode": {
    "name": "ipython",
    "version": 2
   },
   "file_extension": ".py",
   "mimetype": "text/x-python",
   "name": "python",
   "nbconvert_exporter": "python",
   "pygments_lexer": "ipython2",
   "version": "2.7.6"
  }
 },
 "nbformat": 4,
 "nbformat_minor": 0
}